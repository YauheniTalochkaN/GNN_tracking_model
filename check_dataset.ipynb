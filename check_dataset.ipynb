{
 "cells": [
  {
   "cell_type": "code",
   "execution_count": 1,
   "metadata": {},
   "outputs": [],
   "source": [
    "import numpy as np\n",
    "import pandas as pd\n",
    "import matplotlib.pyplot as plt"
   ]
  },
  {
   "cell_type": "code",
   "execution_count": 2,
   "metadata": {},
   "outputs": [],
   "source": [
    "def calc_dphi(phi1, phi2):\n",
    "    dphi = phi2 - phi1\n",
    "    dphi[dphi > np.pi] -= 2*np.pi\n",
    "    dphi[dphi < -np.pi] += 2*np.pi\n",
    "    return dphi"
   ]
  },
  {
   "cell_type": "code",
   "execution_count": 9,
   "metadata": {},
   "outputs": [
    {
     "name": "stdout",
     "output_type": "stream",
     "text": [
      "Processing: ./MPD_dataset/MPD_events/event_0_\n",
      "Processing: ./MPD_dataset/MPD_events/event_1_\n",
      "Processing: ./MPD_dataset/MPD_events/event_2_\n",
      "Processing: ./MPD_dataset/MPD_events/event_3_\n",
      "Processing: ./MPD_dataset/MPD_events/event_4_\n",
      "Processing: ./MPD_dataset/MPD_events/event_5_\n",
      "Processing: ./MPD_dataset/MPD_events/event_6_\n",
      "Processing: ./MPD_dataset/MPD_events/event_7_\n",
      "Processing: ./MPD_dataset/MPD_events/event_8_\n",
      "Processing: ./MPD_dataset/MPD_events/event_9_\n"
     ]
    }
   ],
   "source": [
    "input_dir = './MPD_dataset/MPD_events'\n",
    "rmaxlist = []\n",
    "zminlist = []\n",
    "zmaxlist = []\n",
    "maxrowlist = []\n",
    "minrowlist = []\n",
    "particlenumlist = []\n",
    "hitnumlist = []\n",
    "\n",
    "phi_slope_list = []\n",
    "distance_list = []\n",
    "theta_list = []\n",
    "z0_list = []\n",
    "\n",
    "for evtid in range(10):\n",
    "    event_name = input_dir + f'/event_{evtid}_'\n",
    "    print(f'Processing: {event_name:s}')\n",
    "\n",
    "    hits = pd.read_csv(event_name + 'hits.csv')\n",
    "    r = np.sqrt(hits.x**2 + hits.y**2)\n",
    "    phi = np.arctan2(hits.y, hits.x)\n",
    "    hits = hits[['hit_id', 'z', 'row_id', 'sector_id']].assign(r=r, phi=phi)\n",
    "    rmaxlist.append(hits['r'].max())\n",
    "    zminlist.append(hits['z'].min())\n",
    "    zmaxlist.append(hits['z'].max())\n",
    "    minrowlist.append(hits['row_id'].min())\n",
    "    maxrowlist.append(hits['row_id'].max())\n",
    "    hitnumlist.append(len(hits))\n",
    "\n",
    "    tracks = pd.read_csv(event_name + 'tracks.csv')\n",
    "    particlenumlist.append(len(set(tracks['track_id'])))\n",
    "\n",
    "    truth = pd.read_csv(event_name + 'truth.csv')\n",
    "\n",
    "    truth = truth.merge(tracks[['track_id', 'pt']], on='track_id')\n",
    "    hits = hits.merge(truth, on='hit_id')\n",
    "\n",
    "    hits = hits[hits['pt'] >= 1]\n",
    "\n",
    "    hit_gropus = hits.groupby(\"track_id\")\n",
    "\n",
    "    for x in set(hits['track_id']):\n",
    "        track_df = hit_gropus.get_group(x).assign(evtid=1)\n",
    "        hit_pairs = track_df.reset_index().merge(track_df.reset_index(), on='evtid', suffixes=('_1', '_2'))\n",
    "        hit_pairs = hit_pairs[(hit_pairs['row_id_1'] == hit_pairs['row_id_2'] - 1) & (hit_pairs['sector_id_1'] == hit_pairs['sector_id_2'])]\n",
    "\n",
    "        dphi = calc_dphi(hit_pairs.phi_1, hit_pairs.phi_2)\n",
    "        dz = hit_pairs.z_2 - hit_pairs.z_1\n",
    "        dr = hit_pairs.r_2 - hit_pairs.r_1\n",
    "        phi_slope = dphi / dr\n",
    "        z0 = hit_pairs.z_1 - hit_pairs.r_1 * dz / dr\n",
    "        distance = np.sqrt(hit_pairs.r_1**2 + hit_pairs.r_2**2 - 2 * hit_pairs.r_1 * hit_pairs.r_2 * np.cos(dphi) + dz**2)\n",
    "        theta = np.arctan(dz / dr)\n",
    "\n",
    "        phi_slope_list.append(phi_slope.abs().max())\n",
    "        distance_list.append(distance.abs().max())\n",
    "        theta_list.append(theta.abs().max())\n",
    "        z0_list.append(z0.abs().max())"
   ]
  },
  {
   "cell_type": "code",
   "execution_count": 10,
   "metadata": {},
   "outputs": [
    {
     "data": {
      "text/plain": [
       "np.float64(0.07123251461975008)"
      ]
     },
     "execution_count": 10,
     "metadata": {},
     "output_type": "execute_result"
    }
   ],
   "source": [
    "np.array(phi_slope_list)[~np.isnan(np.array(phi_slope_list))].max()"
   ]
  },
  {
   "cell_type": "code",
   "execution_count": 11,
   "metadata": {},
   "outputs": [
    {
     "data": {
      "text/plain": [
       "np.float64(1.4720831412686424)"
      ]
     },
     "execution_count": 11,
     "metadata": {},
     "output_type": "execute_result"
    }
   ],
   "source": [
    "np.array(theta_list)[~np.isnan(np.array(theta_list))].max()"
   ]
  },
  {
   "cell_type": "code",
   "execution_count": 12,
   "metadata": {},
   "outputs": [
    {
     "data": {
      "text/plain": [
       "np.float64(318.37014375408)"
      ]
     },
     "execution_count": 12,
     "metadata": {},
     "output_type": "execute_result"
    }
   ],
   "source": [
    "np.array(z0_list)[~np.isnan(np.array(z0_list))].max()"
   ]
  },
  {
   "cell_type": "code",
   "execution_count": 7,
   "metadata": {},
   "outputs": [
    {
     "data": {
      "text/plain": [
       "np.float64(11.953161700989428)"
      ]
     },
     "execution_count": 7,
     "metadata": {},
     "output_type": "execute_result"
    }
   ],
   "source": [
    "np.array(distance_list)[~np.isnan(np.array(distance_list))].max()"
   ]
  },
  {
   "cell_type": "code",
   "execution_count": 13,
   "metadata": {},
   "outputs": [
    {
     "data": {
      "text/plain": [
       "np.float64(123.13846256511407)"
      ]
     },
     "execution_count": 13,
     "metadata": {},
     "output_type": "execute_result"
    }
   ],
   "source": [
    "np.array(rmaxlist).max()"
   ]
  },
  {
   "cell_type": "code",
   "execution_count": 4,
   "metadata": {},
   "outputs": [
    {
     "data": {
      "text/plain": [
       "np.float64(-165.853)"
      ]
     },
     "execution_count": 4,
     "metadata": {},
     "output_type": "execute_result"
    }
   ],
   "source": [
    "np.array(zminlist).min()"
   ]
  },
  {
   "cell_type": "code",
   "execution_count": 5,
   "metadata": {},
   "outputs": [
    {
     "data": {
      "text/plain": [
       "np.float64(168.646)"
      ]
     },
     "execution_count": 5,
     "metadata": {},
     "output_type": "execute_result"
    }
   ],
   "source": [
    "np.array(zmaxlist).max()"
   ]
  },
  {
   "cell_type": "code",
   "execution_count": 6,
   "metadata": {},
   "outputs": [
    {
     "data": {
      "text/plain": [
       "np.int64(0)"
      ]
     },
     "execution_count": 6,
     "metadata": {},
     "output_type": "execute_result"
    }
   ],
   "source": [
    "np.array(minrowlist).min()"
   ]
  },
  {
   "cell_type": "code",
   "execution_count": 7,
   "metadata": {},
   "outputs": [
    {
     "data": {
      "text/plain": [
       "np.int64(52)"
      ]
     },
     "execution_count": 7,
     "metadata": {},
     "output_type": "execute_result"
    }
   ],
   "source": [
    "np.array(maxrowlist).max()"
   ]
  },
  {
   "cell_type": "code",
   "execution_count": 8,
   "metadata": {},
   "outputs": [
    {
     "data": {
      "image/png": "[encoded data removed]",
      "text/plain": [
       "<Figure size 640x480 with 1 Axes>"
      ]
     },
     "metadata": {},
     "output_type": "display_data"
    }
   ],
   "source": [
    "plt.hist(particlenumlist, bins=50, color='blue', edgecolor='black')\n",
    "\n",
    "plt.ylabel('Counts')\n",
    "plt.xlabel('Particle number')\n",
    "\n",
    "plt.show()"
   ]
  },
  {
   "cell_type": "code",
   "execution_count": 9,
   "metadata": {},
   "outputs": [
    {
     "name": "stdout",
     "output_type": "stream",
     "text": [
      "32.60%\n"
     ]
    }
   ],
   "source": [
    "print(f'{len([x for x in particlenumlist if x > 400]) / len(particlenumlist) * 100:.2f}%')"
   ]
  },
  {
   "cell_type": "code",
   "execution_count": 10,
   "metadata": {},
   "outputs": [
    {
     "data": {
      "image/png": "[encoded data removed]",
      "text/plain": [
       "<Figure size 640x480 with 1 Axes>"
      ]
     },
     "metadata": {},
     "output_type": "display_data"
    }
   ],
   "source": [
    "plt.hist(hitnumlist, bins=50, color='blue', edgecolor='black')\n",
    "\n",
    "plt.ylabel('Counts')\n",
    "plt.xlabel('Hit number')\n",
    "\n",
    "plt.show()"
   ]
  }
 ],
 "metadata": {
  "kernelspec": {
   "display_name": "gnn_env",
   "language": "python",
   "name": "python3"
  },
  "language_info": {
   "codemirror_mode": {
    "name": "ipython",
    "version": 3
   },
   "file_extension": ".py",
   "mimetype": "text/x-python",
   "name": "python",
   "nbconvert_exporter": "python",
   "pygments_lexer": "ipython3",
   "version": "3.13.1"
  }
 },
 "nbformat": 4,
 "nbformat_minor": 2
}
